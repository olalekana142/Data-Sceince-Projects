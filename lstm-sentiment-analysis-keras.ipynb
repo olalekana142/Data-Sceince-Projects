{
 "cells": [
  {
   "cell_type": "code",
   "execution_count": 1,
   "metadata": {
    "_cell_guid": "6c53202d-5c34-4859-e7e9-8ef5c7068287",
    "_uuid": "717bb968c36b9325c7d4cae5724a3672e49ff243",
    "execution": {
     "iopub.execute_input": "2023-10-05T07:38:35.486685Z",
     "iopub.status.busy": "2023-10-05T07:38:35.4861Z",
     "iopub.status.idle": "2023-10-05T07:38:35.500204Z",
     "shell.execute_reply": "2023-10-05T07:38:35.498837Z",
     "shell.execute_reply.started": "2023-10-05T07:38:35.486629Z"
    }
   },
   "outputs": [
    {
     "name": "stderr",
     "output_type": "stream",
     "text": [
      "Using TensorFlow backend.\n"
     ]
    }
   ],
   "source": [
    "import numpy as np # linear algebra\n",
    "import pandas as pd # data processing, CSV file I/O (e.g. pd.read_csv)\n",
    "\n",
    "from sklearn.feature_extraction.text import CountVectorizer\n",
    "from keras.preprocessing.text import Tokenizer\n",
    "from keras.preprocessing.sequence import pad_sequences\n",
    "from keras.models import Sequential\n",
    "from keras.layers import Dense, Embedding, LSTM, SpatialDropout1D\n",
    "from sklearn.model_selection import train_test_split\n",
    "from keras.utils.np_utils import to_categorical\n",
    "import re"
   ]
  },
  {
   "cell_type": "markdown",
   "metadata": {
    "_cell_guid": "2bc2702e-d6f4-df5f-b80e-50ab23a6d29e",
    "_uuid": "9b520acffb5cd85d0e1ada968ad0f12cee33a4b5"
   },
   "source": [
    "Only keeping the necessary columns."
   ]
  },
  {
   "cell_type": "code",
   "execution_count": 2,
   "metadata": {
    "_cell_guid": "89c8c923-c0bf-7b35-9ab8-e63f00b74e5a",
    "_uuid": "d2bc3bbd2ea3961c49e6673145a0a7226c160e58",
    "execution": {
     "iopub.execute_input": "2023-10-05T07:38:35.501323Z",
     "iopub.status.busy": "2023-10-05T07:38:35.500988Z",
     "iopub.status.idle": "2023-10-05T07:38:35.592625Z",
     "shell.execute_reply": "2023-10-05T07:38:35.591481Z",
     "shell.execute_reply.started": "2023-10-05T07:38:35.501284Z"
    }
   },
   "outputs": [],
   "source": [
    "data = pd.read_csv('/kaggle/input/first-gop-debate-twitter-sentiment/Sentiment.csv')"
   ]
  },
  {
   "cell_type": "code",
   "execution_count": 3,
   "metadata": {
    "execution": {
     "iopub.execute_input": "2023-10-05T07:38:35.594206Z",
     "iopub.status.busy": "2023-10-05T07:38:35.593901Z",
     "iopub.status.idle": "2023-10-05T07:38:35.600749Z",
     "shell.execute_reply": "2023-10-05T07:38:35.599955Z",
     "shell.execute_reply.started": "2023-10-05T07:38:35.594148Z"
    }
   },
   "outputs": [],
   "source": [
    "data = data[['sentiment', 'text']]"
   ]
  },
  {
   "cell_type": "code",
   "execution_count": 4,
   "metadata": {
    "execution": {
     "iopub.execute_input": "2023-10-05T07:38:35.601993Z",
     "iopub.status.busy": "2023-10-05T07:38:35.601719Z",
     "iopub.status.idle": "2023-10-05T07:38:35.624806Z",
     "shell.execute_reply": "2023-10-05T07:38:35.624241Z",
     "shell.execute_reply.started": "2023-10-05T07:38:35.60194Z"
    }
   },
   "outputs": [
    {
     "data": {
      "text/html": [
       "<div>\n",
       "<style scoped>\n",
       "    .dataframe tbody tr th:only-of-type {\n",
       "        vertical-align: middle;\n",
       "    }\n",
       "\n",
       "    .dataframe tbody tr th {\n",
       "        vertical-align: top;\n",
       "    }\n",
       "\n",
       "    .dataframe thead th {\n",
       "        text-align: right;\n",
       "    }\n",
       "</style>\n",
       "<table border=\"1\" class=\"dataframe\">\n",
       "  <thead>\n",
       "    <tr style=\"text-align: right;\">\n",
       "      <th></th>\n",
       "      <th>sentiment</th>\n",
       "      <th>text</th>\n",
       "    </tr>\n",
       "  </thead>\n",
       "  <tbody>\n",
       "    <tr>\n",
       "      <th>0</th>\n",
       "      <td>Neutral</td>\n",
       "      <td>RT @NancyLeeGrahn: How did everyone feel about...</td>\n",
       "    </tr>\n",
       "    <tr>\n",
       "      <th>1</th>\n",
       "      <td>Positive</td>\n",
       "      <td>RT @ScottWalker: Didn't catch the full #GOPdeb...</td>\n",
       "    </tr>\n",
       "    <tr>\n",
       "      <th>2</th>\n",
       "      <td>Neutral</td>\n",
       "      <td>RT @TJMShow: No mention of Tamir Rice and the ...</td>\n",
       "    </tr>\n",
       "    <tr>\n",
       "      <th>3</th>\n",
       "      <td>Positive</td>\n",
       "      <td>RT @RobGeorge: That Carly Fiorina is trending ...</td>\n",
       "    </tr>\n",
       "    <tr>\n",
       "      <th>4</th>\n",
       "      <td>Positive</td>\n",
       "      <td>RT @DanScavino: #GOPDebate w/ @realDonaldTrump...</td>\n",
       "    </tr>\n",
       "  </tbody>\n",
       "</table>\n",
       "</div>"
      ],
      "text/plain": [
       "  ...\n",
       "0 ...\n",
       "1 ...\n",
       "2 ...\n",
       "3 ...\n",
       "4 ...\n",
       "\n",
       "[5 rows x 2 columns]"
      ]
     },
     "execution_count": 4,
     "metadata": {},
     "output_type": "execute_result"
    }
   ],
   "source": [
    "data.head()"
   ]
  },
  {
   "cell_type": "markdown",
   "metadata": {
    "_cell_guid": "4c0ec63b-cdf8-8e29-812b-0fbbfcea2929",
    "_uuid": "ff12d183224670f9c4c96fd24581b9924d4dff20"
   },
   "source": [
    "Next, I am dropping the 'Neutral' sentiments as my goal was to only differentiate positive and negative tweets. After that, I am filtering the tweets so only valid texts and words remain.  Then, I define the number of max features as 2000 and use Tokenizer to vectorize and convert text into Sequences so the Network can deal with it as input."
   ]
  },
  {
   "cell_type": "code",
   "execution_count": 5,
   "metadata": {
    "_cell_guid": "43632d2d-6160-12ce-48b0-e5eb1c207076",
    "_uuid": "d0f8b4542106a279f7398db7285ae5e370b2e813",
    "execution": {
     "iopub.execute_input": "2023-10-05T07:38:35.626671Z",
     "iopub.status.busy": "2023-10-05T07:38:35.626357Z",
     "iopub.status.idle": "2023-10-05T07:38:36.855546Z",
     "shell.execute_reply": "2023-10-05T07:38:36.854984Z",
     "shell.execute_reply.started": "2023-10-05T07:38:35.626614Z"
    }
   },
   "outputs": [
    {
     "name": "stdout",
     "output_type": "stream",
     "text": [
      "4472\n",
      "16986\n"
     ]
    }
   ],
   "source": [
    "data = data[data.sentiment != \"Neutral\"]\n",
    "data['text'] = data['text'].apply(lambda x: x.lower())\n",
    "data['text'] = data['text'].apply((lambda x: re.sub('[^a-zA-z0-9\\s]','',x)))\n",
    "\n",
    "print(data[ data['sentiment'] == 'Positive'].size) #Positive\n",
    "print(data[ data['sentiment'] == 'Negative'].size) #Negative\n",
    "\n",
    "for idx,row in data.iterrows():\n",
    "    row[0] = row[0].replace('rt',' ')\n",
    "    \n",
    "max_fatures = 2000\n",
    "tokenizer = Tokenizer(num_words=max_fatures, split=' ')\n",
    "tokenizer.fit_on_texts(data['text'].values)\n",
    "X = tokenizer.texts_to_sequences(data['text'].values)\n",
    "X = pad_sequences(X)"
   ]
  },
  {
   "cell_type": "markdown",
   "metadata": {
    "_cell_guid": "9753421e-1303-77d5-b17f-5f25fa08c452",
    "_uuid": "aa7d103e946e631133d86ef3adc73e1a8b1a1e89"
   },
   "source": [
    "Next, I compose the LSTM Network. Note that **embed_dim**, **lstm_out**, **batch_size**, **droupout_x** variables are hyperparameters, their values are somehow intuitive, can be and must be played with in order to achieve good results. Please also note that I am using softmax as activation function. The reason is that our Network is using categorical crossentropy, and softmax is just the right activation method for that."
   ]
  },
  {
   "cell_type": "code",
   "execution_count": 6,
   "metadata": {
    "_cell_guid": "1ba3cf60-a83c-9c21-05e0-b14303027e93",
    "_uuid": "05cb9ef0ec9e0a4067e3ab7c1bda7b2c1211feda",
    "execution": {
     "iopub.execute_input": "2023-10-05T07:38:36.856733Z",
     "iopub.status.busy": "2023-10-05T07:38:36.856429Z",
     "iopub.status.idle": "2023-10-05T07:38:37.203599Z",
     "shell.execute_reply": "2023-10-05T07:38:37.202273Z",
     "shell.execute_reply.started": "2023-10-05T07:38:36.856696Z"
    }
   },
   "outputs": [
    {
     "name": "stdout",
     "output_type": "stream",
     "text": [
      "_________________________________________________________________\n",
      "Layer (type)                 Output Shape              Param #   \n",
      "=================================================================\n",
      "embedding_1 (Embedding)      (None, 28, 128)           256000    \n",
      "_________________________________________________________________\n",
      "spatial_dropout1d_1 (Spatial (None, 28, 128)           0         \n",
      "_________________________________________________________________\n",
      "lstm_1 (LSTM)                (None, 196)               254800    \n",
      "_________________________________________________________________\n",
      "dense_1 (Dense)              (None, 2)                 394       \n",
      "=================================================================\n",
      "Total params: 511,194\n",
      "Trainable params: 511,194\n",
      "Non-trainable params: 0\n",
      "_________________________________________________________________\n",
      "None\n"
     ]
    }
   ],
   "source": [
    "embed_dim = 128\n",
    "lstm_out = 196\n",
    "\n",
    "model = Sequential()\n",
    "model.add(Embedding(max_fatures, embed_dim,input_length = X.shape[1]))\n",
    "model.add(SpatialDropout1D(0.4))\n",
    "model.add(LSTM(lstm_out, dropout=0.2, recurrent_dropout=0.2))\n",
    "model.add(Dense(2,activation='softmax'))\n",
    "model.compile(loss = 'categorical_crossentropy', optimizer='adam',metrics = ['accuracy'])\n",
    "print(model.summary())"
   ]
  },
  {
   "cell_type": "markdown",
   "metadata": {
    "_cell_guid": "15f4ee61-47e4-88c4-4b81-98a85237333f",
    "_uuid": "2dae0f3b95a4ba533453c512e573560a8358e162"
   },
   "source": [
    "Hereby I declare the train and test dataset."
   ]
  },
  {
   "cell_type": "code",
   "execution_count": 7,
   "metadata": {
    "_cell_guid": "b35748b8-2353-3db2-e571-5fd22bb93eb0",
    "_uuid": "a380bbfae2d098d407b138fc44622c9913a31c07",
    "execution": {
     "iopub.execute_input": "2023-10-05T07:38:37.205608Z",
     "iopub.status.busy": "2023-10-05T07:38:37.205296Z",
     "iopub.status.idle": "2023-10-05T07:38:37.216687Z",
     "shell.execute_reply": "2023-10-05T07:38:37.215712Z",
     "shell.execute_reply.started": "2023-10-05T07:38:37.20555Z"
    }
   },
   "outputs": [
    {
     "name": "stdout",
     "output_type": "stream",
     "text": [
      "(7188, 28) (7188, 2)\n",
      "(3541, 28) (3541, 2)\n"
     ]
    }
   ],
   "source": [
    "Y = pd.get_dummies(data['sentiment']).values\n",
    "X_train, X_test, Y_train, Y_test = train_test_split(X,Y, test_size = 0.33, random_state = 42)\n",
    "print(X_train.shape,Y_train.shape)\n",
    "print(X_test.shape,Y_test.shape)"
   ]
  },
  {
   "cell_type": "markdown",
   "metadata": {
    "_cell_guid": "2a775979-a930-e627-2963-18557d7bf6e6",
    "_uuid": "8799a667a2c0254cb367c193d86e07ee36d91dd7"
   },
   "source": [
    "Here we train the Network. We should run much more than 7 epoch, but I would have to wait forever for kaggle, so it is 7 for now."
   ]
  },
  {
   "cell_type": "code",
   "execution_count": 8,
   "metadata": {
    "_cell_guid": "d5e499ac-2eba-6ff7-8d9a-ff65eb04099b",
    "_uuid": "d0b239912cf67294a9f5af6883bb159c44318fc7",
    "execution": {
     "iopub.execute_input": "2023-10-05T07:44:54.355459Z",
     "iopub.status.busy": "2023-10-05T07:44:54.355047Z",
     "iopub.status.idle": "2023-10-05T07:48:45.573604Z",
     "shell.execute_reply": "2023-10-05T07:48:45.518411Z",
     "shell.execute_reply.started": "2023-10-05T07:44:54.355401Z"
    }
   },
   "outputs": [
    {
     "name": "stdout",
     "output_type": "stream",
     "text": [
      "Epoch 1/40\n",
      " - 22s - loss: 0.4405 - acc: 0.8154\n",
      "Epoch 2/40\n",
      " - 21s - loss: 0.3231 - acc: 0.8644\n",
      "Epoch 3/40\n",
      " - 21s - loss: 0.2785 - acc: 0.8849\n",
      "Epoch 4/40\n",
      " - 21s - loss: 0.2484 - acc: 0.8976\n",
      "Epoch 5/40\n",
      " - 21s - loss: 0.2255 - acc: 0.9078\n",
      "Epoch 6/40\n",
      " - 21s - loss: 0.2067 - acc: 0.9183\n",
      "Epoch 7/40\n",
      " - 22s - loss: 0.1892 - acc: 0.9215\n",
      "Epoch 8/40\n",
      " - 21s - loss: 0.1713 - acc: 0.9321\n",
      "Epoch 9/40\n",
      " - 21s - loss: 0.1594 - acc: 0.9354\n",
      "Epoch 10/40\n",
      " - 21s - loss: 0.1449 - acc: 0.9413\n",
      "Epoch 11/40\n",
      " - 21s - loss: 0.1350 - acc: 0.9442\n",
      "Epoch 12/40\n",
      " - 21s - loss: 0.1236 - acc: 0.9489\n",
      "Epoch 13/40\n",
      " - 21s - loss: 0.1183 - acc: 0.9503\n",
      "Epoch 14/40\n",
      " - 21s - loss: 0.1142 - acc: 0.9527\n",
      "Epoch 15/40\n",
      " - 21s - loss: 0.1064 - acc: 0.9567\n",
      "Epoch 16/40\n",
      " - 22s - loss: 0.1025 - acc: 0.9577\n",
      "Epoch 17/40\n",
      " - 21s - loss: 0.0985 - acc: 0.9595\n",
      "Epoch 18/40\n",
      " - 21s - loss: 0.0956 - acc: 0.9615\n",
      "Epoch 19/40\n",
      " - 22s - loss: 0.0929 - acc: 0.9619\n",
      "Epoch 20/40\n",
      " - 21s - loss: 0.0932 - acc: 0.9606\n",
      "Epoch 21/40\n",
      " - 21s - loss: 0.0816 - acc: 0.9655\n",
      "Epoch 22/40\n",
      " - 21s - loss: 0.0817 - acc: 0.9634\n",
      "Epoch 23/40\n",
      " - 21s - loss: 0.0820 - acc: 0.9652\n",
      "Epoch 24/40\n",
      " - 21s - loss: 0.0864 - acc: 0.9640\n",
      "Epoch 25/40\n",
      " - 21s - loss: 0.0811 - acc: 0.9665\n",
      "Epoch 26/40\n",
      " - 22s - loss: 0.0787 - acc: 0.9669\n",
      "Epoch 27/40\n",
      " - 21s - loss: 0.0804 - acc: 0.9651\n",
      "Epoch 28/40\n",
      " - 22s - loss: 0.0750 - acc: 0.9683\n",
      "Epoch 29/40\n",
      " - 21s - loss: 0.0721 - acc: 0.9686\n",
      "Epoch 30/40\n",
      " - 21s - loss: 0.0724 - acc: 0.9691\n",
      "Epoch 31/40\n",
      " - 22s - loss: 0.0753 - acc: 0.9679\n",
      "Epoch 32/40\n",
      " - 21s - loss: 0.0727 - acc: 0.9686\n",
      "Epoch 33/40\n",
      " - 21s - loss: 0.0744 - acc: 0.9705\n",
      "Epoch 34/40\n",
      " - 22s - loss: 0.0779 - acc: 0.9677\n",
      "Epoch 35/40\n",
      " - 21s - loss: 0.0675 - acc: 0.9730\n",
      "Epoch 36/40\n",
      " - 21s - loss: 0.0659 - acc: 0.9706\n",
      "Epoch 37/40\n",
      " - 22s - loss: 0.0679 - acc: 0.9695\n",
      "Epoch 38/40\n",
      " - 22s - loss: 0.0687 - acc: 0.9706\n",
      "Epoch 39/40\n",
      " - 21s - loss: 0.0649 - acc: 0.9726\n",
      "Epoch 40/40\n",
      " - 21s - loss: 0.0691 - acc: 0.9699\n"
     ]
    },
    {
     "data": {
      "text/plain": [
       "<keras.callbacks.History at 0x7d62b5a3d160>"
      ]
     },
     "execution_count": 8,
     "metadata": {},
     "output_type": "execute_result"
    }
   ],
   "source": [
    "batch_size = 32\n",
    "model.fit(X_train, Y_train, epochs = 40, batch_size=batch_size, verbose = 2)"
   ]
  },
  {
   "cell_type": "markdown",
   "metadata": {
    "_cell_guid": "4ebd7bc1-53c0-0e31-a0b0-b6d0a3017434",
    "_uuid": "47e99d7ed1f27a85eb01dbafc71b66b329fb1d12"
   },
   "source": [
    "Extracting a validation set, and measuring score and accuracy."
   ]
  },
  {
   "cell_type": "code",
   "execution_count": 9,
   "metadata": {
    "_cell_guid": "a970f412-722f-6d6d-72c8-325d0901ccef",
    "_uuid": "7872f6ea819a5d4d08394ba6db8436f9cb2cfe1c",
    "execution": {
     "iopub.execute_input": "2023-10-05T07:48:50.980195Z",
     "iopub.status.busy": "2023-10-05T07:48:50.979934Z",
     "iopub.status.idle": "2023-10-05T07:48:51.155809Z",
     "shell.execute_reply": "2023-10-05T07:48:51.155186Z",
     "shell.execute_reply.started": "2023-10-05T07:48:50.980148Z"
    }
   },
   "outputs": [
    {
     "name": "stdout",
     "output_type": "stream",
     "text": [
      "score: 1.06\n",
      "acc: 0.82\n"
     ]
    }
   ],
   "source": [
    "validation_size = 1500\n",
    "\n",
    "X_validate = X_test[-validation_size:]\n",
    "Y_validate = Y_test[-validation_size:]\n",
    "X_test = X_test[:-validation_size]\n",
    "Y_test = Y_test[:-validation_size]\n",
    "score,acc = model.evaluate(X_test, Y_test, verbose = 2, batch_size = batch_size)\n",
    "print(\"score: %.2f\" % (score))\n",
    "print(\"acc: %.2f\" % (acc))"
   ]
  },
  {
   "cell_type": "markdown",
   "metadata": {
    "_cell_guid": "018ebf39-9414-27d0-232c-a34de051feaf",
    "_uuid": "4b54f18bbf22a953c60f271c318cb076e684df9c"
   },
   "source": [
    "Finally measuring the number of correct guesses.  It is clear that finding negative tweets goes very well for the Network but deciding whether is positive is not really. My educated guess here is that the positive training set is dramatically smaller than the negative, hence the \"bad\" results for positive tweets."
   ]
  },
  {
   "cell_type": "code",
   "execution_count": 10,
   "metadata": {
    "_cell_guid": "1add73e9-c6fb-7e4c-8715-ea92f519d2a6",
    "_uuid": "f80e9f3cf281adb3ab0357cbf6f886eb1dce3005",
    "execution": {
     "iopub.execute_input": "2023-10-05T07:48:56.777905Z",
     "iopub.status.busy": "2023-10-05T07:48:56.777628Z",
     "iopub.status.idle": "2023-10-05T07:49:02.601782Z",
     "shell.execute_reply": "2023-10-05T07:49:02.601193Z",
     "shell.execute_reply.started": "2023-10-05T07:48:56.777871Z"
    }
   },
   "outputs": [
    {
     "name": "stdout",
     "output_type": "stream",
     "text": [
      "pos_acc 58.89967637540453 %\n",
      "neg_acc 89.4206549118388 %\n"
     ]
    }
   ],
   "source": [
    "pos_cnt, neg_cnt, pos_correct, neg_correct = 0, 0, 0, 0\n",
    "for x in range(len(X_validate)):\n",
    "    \n",
    "    result = model.predict(X_validate[x].reshape(1,X_test.shape[1]),batch_size=1,verbose = 2)[0]\n",
    "   \n",
    "    if np.argmax(result) == np.argmax(Y_validate[x]):\n",
    "        if np.argmax(Y_validate[x]) == 0:\n",
    "            neg_correct += 1\n",
    "        else:\n",
    "            pos_correct += 1\n",
    "       \n",
    "    if np.argmax(Y_validate[x]) == 0:\n",
    "        neg_cnt += 1\n",
    "    else:\n",
    "        pos_cnt += 1\n",
    "\n",
    "\n",
    "\n",
    "print(\"pos_acc\", pos_correct/pos_cnt*100, \"%\")\n",
    "print(\"neg_acc\", neg_correct/neg_cnt*100, \"%\")"
   ]
  },
  {
   "cell_type": "markdown",
   "metadata": {
    "_cell_guid": "890a03c9-316e-4d55-98e1-ba29045eff6c",
    "_uuid": "cfcbefe939b72297019e221ca3f5a283974bffff"
   },
   "source": [
    "As it was requested by the crowd, I extended the kernel with a prediction example, and also updated the API calls to Keras 2.0. Please note that the network performs poorly. Its because the training data is very unbalanced (pos: 4472, neg: 16986), you should get more data, use other dataset, use pre-trained model, or weight classes to achieve reliable predictions.\n",
    "\n",
    "I have created this kernel when I knew much less about LSTM & ML. It is a really basic, beginner level kernel, yet it had a huge audience in the past year. I had a lot of private questions and requests regarding this notebook and I tried my best to help and answer them . In the future I am not planning to answer custom questions and support/enhance this kernel in any ways. Thank you my folks :)"
   ]
  },
  {
   "cell_type": "code",
   "execution_count": 11,
   "metadata": {
    "_cell_guid": "24c64f46-edd1-8d0b-7c7c-ef50fd26b2fd",
    "_uuid": "d9aac68e2013b3beffb6a764cc5b85be83073e66",
    "execution": {
     "iopub.execute_input": "2023-10-05T07:55:14.170423Z",
     "iopub.status.busy": "2023-10-05T07:55:14.170041Z",
     "iopub.status.idle": "2023-10-05T07:55:14.187948Z",
     "shell.execute_reply": "2023-10-05T07:55:14.187336Z",
     "shell.execute_reply.started": "2023-10-05T07:55:14.170358Z"
    }
   },
   "outputs": [
    {
     "name": "stdout",
     "output_type": "stream",
     "text": [
      "[[0 0 0 0 0 0 0 0 0 0 0 0 0 0 0 0 0 0 0 0 0 0 0 0 0 0 0 0]]\n",
      "negative\n"
     ]
    }
   ],
   "source": [
    "twt = ['']\n",
    "#vectorizing the tweet by the pre-fitted tokenizer instance\n",
    "twt = tokenizer.texts_to_sequences(twt)\n",
    "#padding the tweet to have exactly the same shape as `embedding_2` input\n",
    "twt = pad_sequences(twt, maxlen=28, dtype='int32', value=0)\n",
    "print(twt)\n",
    "sentiment = model.predict(twt,batch_size=1,verbose = 2)[0]\n",
    "if(np.argmax(sentiment) == 0):\n",
    "    print(\"negative\")\n",
    "elif (np.argmax(sentiment) == 1):\n",
    "    print(\"positive\")"
   ]
  }
 ],
 "metadata": {
  "kernelspec": {
   "display_name": "Python 3",
   "language": "python",
   "name": "python3"
  },
  "language_info": {
   "codemirror_mode": {
    "name": "ipython",
    "version": 3
   },
   "file_extension": ".py",
   "mimetype": "text/x-python",
   "name": "python",
   "nbconvert_exporter": "python",
   "pygments_lexer": "ipython3",
   "version": "3.6.4"
  }
 },
 "nbformat": 4,
 "nbformat_minor": 4
}

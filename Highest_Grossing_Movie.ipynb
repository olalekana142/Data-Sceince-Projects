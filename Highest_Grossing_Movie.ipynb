{
  "nbformat": 4,
  "nbformat_minor": 0,
  "metadata": {
    "colab": {
      "name": "Highest Grossing Movie.ipynb",
      "provenance": [],
      "collapsed_sections": [],
      "mount_file_id": "1KBlJCkFCx0yfj0sJMY8NBtjo16DfECBQ",
      "authorship_tag": "ABX9TyOqDYI4WrTjAIL1ECoWErrx",
      "include_colab_link": true
    },
    "kernelspec": {
      "name": "python3",
      "display_name": "Python 3"
    },
    "language_info": {
      "name": "python"
    }
  },
  "cells": [
    {
      "cell_type": "markdown",
      "metadata": {
        "id": "view-in-github",
        "colab_type": "text"
      },
      "source": [
        "<a href=\"https://colab.research.google.com/github/olalekana142/projects/blob/master/Highest_Grossing_Movie.ipynb\" target=\"_parent\"><img src=\"https://colab.research.google.com/assets/colab-badge.svg\" alt=\"Open In Colab\"/></a>"
      ]
    },
    {
      "cell_type": "code",
      "execution_count": 17,
      "metadata": {
        "id": "5B4yBoqPCEjw"
      },
      "outputs": [],
      "source": [
        "import numpy as np\n",
        "import pandas as pd\n",
        "import matplotlib_inline\n",
        "import matplotlib.pyplot as plt\n"
      ]
    },
    {
      "cell_type": "code",
      "source": [
        "df=pd.read_csv('/content/drive/MyDrive/Highest Grossing movie/Highest Holywood Grossing Movies.csv')"
      ],
      "metadata": {
        "id": "YjxSUYM905hx"
      },
      "execution_count": 18,
      "outputs": []
    },
    {
      "cell_type": "code",
      "source": [
        "df.head(2)"
      ],
      "metadata": {
        "colab": {
          "base_uri": "https://localhost:8080/",
          "height": 384
        },
        "id": "irYfZQfy1hqE",
        "outputId": "ee5d1d6e-ca00-433d-b990-962120378427"
      },
      "execution_count": 19,
      "outputs": [
        {
          "output_type": "execute_result",
          "data": {
            "text/plain": [
              "   Unnamed: 0                                              Title  \\\n",
              "0           0  Star Wars: Episode VII - The Force Awakens (2015)   \n",
              "1           1                           Avengers: Endgame (2019)   \n",
              "\n",
              "                                          Movie Info  \\\n",
              "0  As a new threat to the galaxy rises, Rey, a de...   \n",
              "1  After the devastating events of Avengers: Infi...   \n",
              "\n",
              "                           Distributor       Release Date  \\\n",
              "0  Walt Disney Studios Motion Pictures  December 16, 2015   \n",
              "1  Walt Disney Studios Motion Pictures     April 24, 2019   \n",
              "\n",
              "   Domestic Sales (in $)  International Sales (in $)  World Sales (in $)  \\\n",
              "0              936662225                  1132859475          2069521700   \n",
              "1              858373000                  1939128328          2797501328   \n",
              "\n",
              "                                        Genre Movie Runtime License  \n",
              "0           ['Action', 'Adventure', 'Sci-Fi']   2 hr 18 min   PG-13  \n",
              "1  ['Action', 'Adventure', 'Drama', 'Sci-Fi']    3 hr 1 min   PG-13  "
            ],
            "text/html": [
              "\n",
              "  <div id=\"df-5e248d69-1d70-484d-bb3f-23ed68ab0dcb\">\n",
              "    <div class=\"colab-df-container\">\n",
              "      <div>\n",
              "<style scoped>\n",
              "    .dataframe tbody tr th:only-of-type {\n",
              "        vertical-align: middle;\n",
              "    }\n",
              "\n",
              "    .dataframe tbody tr th {\n",
              "        vertical-align: top;\n",
              "    }\n",
              "\n",
              "    .dataframe thead th {\n",
              "        text-align: right;\n",
              "    }\n",
              "</style>\n",
              "<table border=\"1\" class=\"dataframe\">\n",
              "  <thead>\n",
              "    <tr style=\"text-align: right;\">\n",
              "      <th></th>\n",
              "      <th>Unnamed: 0</th>\n",
              "      <th>Title</th>\n",
              "      <th>Movie Info</th>\n",
              "      <th>Distributor</th>\n",
              "      <th>Release Date</th>\n",
              "      <th>Domestic Sales (in $)</th>\n",
              "      <th>International Sales (in $)</th>\n",
              "      <th>World Sales (in $)</th>\n",
              "      <th>Genre</th>\n",
              "      <th>Movie Runtime</th>\n",
              "      <th>License</th>\n",
              "    </tr>\n",
              "  </thead>\n",
              "  <tbody>\n",
              "    <tr>\n",
              "      <th>0</th>\n",
              "      <td>0</td>\n",
              "      <td>Star Wars: Episode VII - The Force Awakens (2015)</td>\n",
              "      <td>As a new threat to the galaxy rises, Rey, a de...</td>\n",
              "      <td>Walt Disney Studios Motion Pictures</td>\n",
              "      <td>December 16, 2015</td>\n",
              "      <td>936662225</td>\n",
              "      <td>1132859475</td>\n",
              "      <td>2069521700</td>\n",
              "      <td>['Action', 'Adventure', 'Sci-Fi']</td>\n",
              "      <td>2 hr 18 min</td>\n",
              "      <td>PG-13</td>\n",
              "    </tr>\n",
              "    <tr>\n",
              "      <th>1</th>\n",
              "      <td>1</td>\n",
              "      <td>Avengers: Endgame (2019)</td>\n",
              "      <td>After the devastating events of Avengers: Infi...</td>\n",
              "      <td>Walt Disney Studios Motion Pictures</td>\n",
              "      <td>April 24, 2019</td>\n",
              "      <td>858373000</td>\n",
              "      <td>1939128328</td>\n",
              "      <td>2797501328</td>\n",
              "      <td>['Action', 'Adventure', 'Drama', 'Sci-Fi']</td>\n",
              "      <td>3 hr 1 min</td>\n",
              "      <td>PG-13</td>\n",
              "    </tr>\n",
              "  </tbody>\n",
              "</table>\n",
              "</div>\n",
              "      <button class=\"colab-df-convert\" onclick=\"convertToInteractive('df-5e248d69-1d70-484d-bb3f-23ed68ab0dcb')\"\n",
              "              title=\"Convert this dataframe to an interactive table.\"\n",
              "              style=\"display:none;\">\n",
              "        \n",
              "  <svg xmlns=\"http://www.w3.org/2000/svg\" height=\"24px\"viewBox=\"0 0 24 24\"\n",
              "       width=\"24px\">\n",
              "    <path d=\"M0 0h24v24H0V0z\" fill=\"none\"/>\n",
              "    <path d=\"M18.56 5.44l.94 2.06.94-2.06 2.06-.94-2.06-.94-.94-2.06-.94 2.06-2.06.94zm-11 1L8.5 8.5l.94-2.06 2.06-.94-2.06-.94L8.5 2.5l-.94 2.06-2.06.94zm10 10l.94 2.06.94-2.06 2.06-.94-2.06-.94-.94-2.06-.94 2.06-2.06.94z\"/><path d=\"M17.41 7.96l-1.37-1.37c-.4-.4-.92-.59-1.43-.59-.52 0-1.04.2-1.43.59L10.3 9.45l-7.72 7.72c-.78.78-.78 2.05 0 2.83L4 21.41c.39.39.9.59 1.41.59.51 0 1.02-.2 1.41-.59l7.78-7.78 2.81-2.81c.8-.78.8-2.07 0-2.86zM5.41 20L4 18.59l7.72-7.72 1.47 1.35L5.41 20z\"/>\n",
              "  </svg>\n",
              "      </button>\n",
              "      \n",
              "  <style>\n",
              "    .colab-df-container {\n",
              "      display:flex;\n",
              "      flex-wrap:wrap;\n",
              "      gap: 12px;\n",
              "    }\n",
              "\n",
              "    .colab-df-convert {\n",
              "      background-color: #E8F0FE;\n",
              "      border: none;\n",
              "      border-radius: 50%;\n",
              "      cursor: pointer;\n",
              "      display: none;\n",
              "      fill: #1967D2;\n",
              "      height: 32px;\n",
              "      padding: 0 0 0 0;\n",
              "      width: 32px;\n",
              "    }\n",
              "\n",
              "    .colab-df-convert:hover {\n",
              "      background-color: #E2EBFA;\n",
              "      box-shadow: 0px 1px 2px rgba(60, 64, 67, 0.3), 0px 1px 3px 1px rgba(60, 64, 67, 0.15);\n",
              "      fill: #174EA6;\n",
              "    }\n",
              "\n",
              "    [theme=dark] .colab-df-convert {\n",
              "      background-color: #3B4455;\n",
              "      fill: #D2E3FC;\n",
              "    }\n",
              "\n",
              "    [theme=dark] .colab-df-convert:hover {\n",
              "      background-color: #434B5C;\n",
              "      box-shadow: 0px 1px 3px 1px rgba(0, 0, 0, 0.15);\n",
              "      filter: drop-shadow(0px 1px 2px rgba(0, 0, 0, 0.3));\n",
              "      fill: #FFFFFF;\n",
              "    }\n",
              "  </style>\n",
              "\n",
              "      <script>\n",
              "        const buttonEl =\n",
              "          document.querySelector('#df-5e248d69-1d70-484d-bb3f-23ed68ab0dcb button.colab-df-convert');\n",
              "        buttonEl.style.display =\n",
              "          google.colab.kernel.accessAllowed ? 'block' : 'none';\n",
              "\n",
              "        async function convertToInteractive(key) {\n",
              "          const element = document.querySelector('#df-5e248d69-1d70-484d-bb3f-23ed68ab0dcb');\n",
              "          const dataTable =\n",
              "            await google.colab.kernel.invokeFunction('convertToInteractive',\n",
              "                                                     [key], {});\n",
              "          if (!dataTable) return;\n",
              "\n",
              "          const docLinkHtml = 'Like what you see? Visit the ' +\n",
              "            '<a target=\"_blank\" href=https://colab.research.google.com/notebooks/data_table.ipynb>data table notebook</a>'\n",
              "            + ' to learn more about interactive tables.';\n",
              "          element.innerHTML = '';\n",
              "          dataTable['output_type'] = 'display_data';\n",
              "          await google.colab.output.renderOutput(dataTable, element);\n",
              "          const docLink = document.createElement('div');\n",
              "          docLink.innerHTML = docLinkHtml;\n",
              "          element.appendChild(docLink);\n",
              "        }\n",
              "      </script>\n",
              "    </div>\n",
              "  </div>\n",
              "  "
            ]
          },
          "metadata": {},
          "execution_count": 19
        }
      ]
    },
    {
      "cell_type": "code",
      "source": [
        "df.dtypes"
      ],
      "metadata": {
        "colab": {
          "base_uri": "https://localhost:8080/"
        },
        "id": "Icl2yEGI1iz2",
        "outputId": "882d85be-c7f8-4768-c823-28bef27a3dc4"
      },
      "execution_count": 20,
      "outputs": [
        {
          "output_type": "execute_result",
          "data": {
            "text/plain": [
              "Unnamed: 0                     int64\n",
              "Title                         object\n",
              "Movie Info                    object\n",
              "Distributor                   object\n",
              "Release Date                  object\n",
              "Domestic Sales (in $)          int64\n",
              "International Sales (in $)     int64\n",
              "World Sales (in $)             int64\n",
              "Genre                         object\n",
              "Movie Runtime                 object\n",
              "License                       object\n",
              "dtype: object"
            ]
          },
          "metadata": {},
          "execution_count": 20
        }
      ]
    },
    {
      "cell_type": "code",
      "source": [
        "df.isnull().sum()"
      ],
      "metadata": {
        "colab": {
          "base_uri": "https://localhost:8080/"
        },
        "id": "djIRizKA1yjf",
        "outputId": "69a53190-5851-4a53-e39d-b0a35eda4790"
      },
      "execution_count": 21,
      "outputs": [
        {
          "output_type": "execute_result",
          "data": {
            "text/plain": [
              "Unnamed: 0                      0\n",
              "Title                           0\n",
              "Movie Info                      0\n",
              "Distributor                     0\n",
              "Release Date                  118\n",
              "Domestic Sales (in $)           0\n",
              "International Sales (in $)      0\n",
              "World Sales (in $)              0\n",
              "Genre                           0\n",
              "Movie Runtime                   0\n",
              "License                       174\n",
              "dtype: int64"
            ]
          },
          "metadata": {},
          "execution_count": 21
        }
      ]
    },
    {
      "cell_type": "code",
      "source": [
        "movie=df['Movie Info']"
      ],
      "metadata": {
        "id": "MUCUOv6520bZ"
      },
      "execution_count": 22,
      "outputs": []
    },
    {
      "cell_type": "code",
      "source": [
        "plt.plot(movie,df[\"Domestic Sales (in $)\"])"
      ],
      "metadata": {
        "colab": {
          "base_uri": "https://localhost:8080/",
          "height": 170
        },
        "id": "T5xp_ilD29as",
        "outputId": "43fb16b1-91fd-4cb8-f686-4e57d2da65a6"
      },
      "execution_count": 23,
      "outputs": [
        {
          "output_type": "execute_result",
          "data": {
            "text/plain": [
              "[<matplotlib.lines.Line2D at 0x7f3fefc6cb50>]"
            ]
          },
          "metadata": {},
          "execution_count": 23
        },
        {
          "output_type": "display_data",
          "data": {
            "text/plain": [
              "<Figure size 432x288 with 1 Axes>"
            ],
            "image/png": "[encoded data removed]"
          },
          "metadata": {
            "needs_background": "light"
          }
        }
      ]
    },
    {
      "cell_type": "code",
      "source": [
        "grouped=df.groupby('Title')['Domestic Sales (in $)'].max()"
      ],
      "metadata": {
        "id": "VDG-ROQ63_j2"
      },
      "execution_count": 38,
      "outputs": []
    },
    {
      "cell_type": "code",
      "source": [
        "grouped"
      ],
      "metadata": {
        "id": "aj0dwj9MAXt0",
        "colab": {
          "base_uri": "https://localhost:8080/"
        },
        "outputId": "3a4b7d6d-62dd-4549-ebf6-a87fa7f529a9"
      },
      "execution_count": 37,
      "outputs": [
        {
          "output_type": "execute_result",
          "data": {
            "text/plain": [
              "Title\n",
              "10,000 BC (2008)            94784201\n",
              "1917 (2019)                159227644\n",
              "2 Fast 2 Furious (2003)    127154901\n",
              "2012 (2009)                166112167\n",
              "21 (2008)                   81159365\n",
              "                             ...    \n",
              "You've Got Mail (1998)     115821495\n",
              "Zero Dark Thirty (2012)     95720716\n",
              "Zookeeper (2011)            80360843\n",
              "Zootopia (2016)            341268248\n",
              "xXx (2002)                 142109382\n",
              "Name: Domestic Sales (in $), Length: 918, dtype: int64"
            ]
          },
          "metadata": {},
          "execution_count": 37
        }
      ]
    },
    {
      "cell_type": "code",
      "source": [
        "gf=df.groupby('Title')['International Sales (in $)'].max()"
      ],
      "metadata": {
        "id": "ajKqkNEjFi7Z"
      },
      "execution_count": 40,
      "outputs": []
    },
    {
      "cell_type": "code",
      "source": [
        "gf"
      ],
      "metadata": {
        "colab": {
          "base_uri": "https://localhost:8080/"
        },
        "id": "SPRBFgV3VH7p",
        "outputId": "d5c0d0e3-37e2-408d-db95-a72429120bb6"
      },
      "execution_count": 43,
      "outputs": [
        {
          "output_type": "execute_result",
          "data": {
            "text/plain": [
              "Title\n",
              "10,000 BC (2008)           175000000\n",
              "1917 (2019)                225691745\n",
              "2 Fast 2 Furious (2003)    109195760\n",
              "2012 (2009)                625105659\n",
              "21 (2008)                   78649005\n",
              "                             ...    \n",
              "You've Got Mail (1998)     135000000\n",
              "Zero Dark Thirty (2012)     37100000\n",
              "Zookeeper (2011)            89491916\n",
              "Zootopia (2016)            682852856\n",
              "xXx (2002)                 135339000\n",
              "Name: International Sales (in $), Length: 918, dtype: int64"
            ]
          },
          "metadata": {},
          "execution_count": 43
        }
      ]
    },
    {
      "cell_type": "code",
      "source": [
        ""
      ],
      "metadata": {
        "id": "JfPvawc2VOP1"
      },
      "execution_count": null,
      "outputs": []
    }
  ]
}
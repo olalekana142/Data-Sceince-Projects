{
 "cells": [
  {
   "cell_type": "markdown",
   "id": "12dd8cba",
   "metadata": {
    "papermill": {
     "duration": 0.007528,
     "end_time": "2023-06-16T18:23:19.731088",
     "exception": false,
     "start_time": "2023-06-16T18:23:19.723560",
     "status": "completed"
    },
    "tags": []
   },
   "source": [
    "# Movie Recommendation by Surprise"
   ]
  },
  {
   "cell_type": "markdown",
   "id": "2d48bdbd",
   "metadata": {
    "papermill": {
     "duration": 0.006597,
     "end_time": "2023-06-16T18:23:19.744785",
     "exception": false,
     "start_time": "2023-06-16T18:23:19.738188",
     "status": "completed"
    },
    "tags": []
   },
   "source": [
    "## Matrix Factorization method for Collaborative Filtering\n",
    "Matrix Factorization is a popular technique used in collaborative filtering to predict user-item ratings based on the previous ratings given by users. Collaborative Filtering is a type of recommendation system that relies on the past behavior of similar users/items to make recommendations.\n",
    "\n",
    "Matrix Factorization is based on the idea of decomposing the user-item rating matrix into two lower-dimensional matrices: one representing users and the other representing items. The lower-dimensional representation captures the latent factors or features that influence a user's preference for an item. The factors may include, for example, the genre of the movie, the director, the actors, or the user's age, gender, etc.\n"
   ]
  },
  {
   "cell_type": "code",
   "execution_count": 1,
   "id": "df3c0ce7",
   "metadata": {
    "execution": {
     "iopub.execute_input": "2023-06-16T18:23:19.760747Z",
     "iopub.status.busy": "2023-06-16T18:23:19.760325Z",
     "iopub.status.idle": "2023-06-16T18:23:21.524570Z",
     "shell.execute_reply": "2023-06-16T18:23:21.523532Z"
    },
    "papermill": {
     "duration": 1.775873,
     "end_time": "2023-06-16T18:23:21.527674",
     "exception": false,
     "start_time": "2023-06-16T18:23:19.751801",
     "status": "completed"
    },
    "tags": []
   },
   "outputs": [],
   "source": [
    "import sys\n",
    "import random\n",
    "from surprise import Dataset, Reader\n",
    "from surprise import SVD\n",
    "from surprise.model_selection import train_test_split\n",
    "from surprise import accuracy\n",
    "from surprise.dataset import DatasetAutoFolds\n",
    "import matplotlib.pyplot as plt\n",
    "import seaborn as sns\n",
    "import pandas as pd\n",
    "import operator\n",
    "import requests\n",
    "from zipfile import ZipFile"
   ]
  },
  {
   "cell_type": "code",
   "execution_count": 2,
   "id": "ba2f0e0d",
   "metadata": {
    "execution": {
     "iopub.execute_input": "2023-06-16T18:23:21.543861Z",
     "iopub.status.busy": "2023-06-16T18:23:21.543393Z",
     "iopub.status.idle": "2023-06-16T18:23:50.567073Z",
     "shell.execute_reply": "2023-06-16T18:23:50.565513Z"
    },
    "papermill": {
     "duration": 29.034781,
     "end_time": "2023-06-16T18:23:50.569568",
     "exception": false,
     "start_time": "2023-06-16T18:23:21.534787",
     "status": "completed"
    },
    "tags": []
   },
   "outputs": [
    {
     "name": "stderr",
     "output_type": "stream",
     "text": [
      "/tmp/ipykernel_20/1924962599.py:1: FutureWarning: The error_bad_lines argument has been deprecated and will be removed in a future version. Use on_bad_lines in the future.\n",
      "\n",
      "\n",
      "  df = pd.read_csv('/kaggle/input/movie-recommendation-system/ratings.csv',\n",
      "/tmp/ipykernel_20/1924962599.py:1: FutureWarning: The warn_bad_lines argument has been deprecated and will be removed in a future version. Use on_bad_lines in the future.\n",
      "\n",
      "\n",
      "  df = pd.read_csv('/kaggle/input/movie-recommendation-system/ratings.csv',\n"
     ]
    },
    {
     "name": "stdout",
     "output_type": "stream",
     "text": [
      "49812\n"
     ]
    }
   ],
   "source": [
    "df = pd.read_csv('/kaggle/input/movie-recommendation-system/ratings.csv', \n",
    "                          error_bad_lines=False, \n",
    "                          warn_bad_lines=False,\n",
    "                          skiprows=lambda i: i>0 and random.random() > 0.002)\n",
    "print(len(df))"
   ]
  },
  {
   "cell_type": "code",
   "execution_count": 3,
   "id": "c4f69cc2",
   "metadata": {
    "execution": {
     "iopub.execute_input": "2023-06-16T18:23:50.587513Z",
     "iopub.status.busy": "2023-06-16T18:23:50.587115Z",
     "iopub.status.idle": "2023-06-16T18:23:50.592835Z",
     "shell.execute_reply": "2023-06-16T18:23:50.591524Z"
    },
    "papermill": {
     "duration": 0.018406,
     "end_time": "2023-06-16T18:23:50.595309",
     "exception": false,
     "start_time": "2023-06-16T18:23:50.576903",
     "status": "completed"
    },
    "tags": []
   },
   "outputs": [],
   "source": [
    "df=df[0:30000]"
   ]
  },
  {
   "cell_type": "code",
   "execution_count": 4,
   "id": "4c3806e7",
   "metadata": {
    "execution": {
     "iopub.execute_input": "2023-06-16T18:23:50.612036Z",
     "iopub.status.busy": "2023-06-16T18:23:50.611657Z",
     "iopub.status.idle": "2023-06-16T18:23:50.685623Z",
     "shell.execute_reply": "2023-06-16T18:23:50.684045Z"
    },
    "papermill": {
     "duration": 0.085638,
     "end_time": "2023-06-16T18:23:50.688525",
     "exception": false,
     "start_time": "2023-06-16T18:23:50.602887",
     "status": "completed"
    },
    "tags": []
   },
   "outputs": [
    {
     "name": "stdout",
     "output_type": "stream",
     "text": [
      "<class 'surprise.dataset.DatasetAutoFolds'>\n"
     ]
    }
   ],
   "source": [
    "reader = Reader(rating_scale=(1,5))\n",
    "data = Dataset.load_from_df(df[['userId','movieId','rating']], reader)\n",
    "print(type(data))"
   ]
  },
  {
   "cell_type": "markdown",
   "id": "4857c37d",
   "metadata": {
    "papermill": {
     "duration": 0.007213,
     "end_time": "2023-06-16T18:23:50.703250",
     "exception": false,
     "start_time": "2023-06-16T18:23:50.696037",
     "status": "completed"
    },
    "tags": []
   },
   "source": [
    "Sample datasets provided by the Surprise package are as follows.\n",
    "\n",
    "* ml-100k: MovieLens dataset containing 100,000 ratings.\n",
    "* ml-1m: MovieLens dataset containing 1,000,000 ratings.\n",
    "* jester: Jester dataset. Anything that includes online joke ratings.\n",
    "* bookcrossing: Book-Crossing dataset. Including book ratings.\n",
    "* movielens: MovieLens dataset. There are four versions, 100k, 1M, 10M and 20M, each containing a corresponding number of ratings."
   ]
  },
  {
   "cell_type": "code",
   "execution_count": 5,
   "id": "920789a4",
   "metadata": {
    "execution": {
     "iopub.execute_input": "2023-06-16T18:23:50.719740Z",
     "iopub.status.busy": "2023-06-16T18:23:50.719286Z",
     "iopub.status.idle": "2023-06-16T18:23:50.797970Z",
     "shell.execute_reply": "2023-06-16T18:23:50.796578Z"
    },
    "papermill": {
     "duration": 0.090229,
     "end_time": "2023-06-16T18:23:50.800794",
     "exception": false,
     "start_time": "2023-06-16T18:23:50.710565",
     "status": "completed"
    },
    "tags": []
   },
   "outputs": [
    {
     "name": "stdout",
     "output_type": "stream",
     "text": [
      "<class 'surprise.trainset.Trainset'>\n"
     ]
    }
   ],
   "source": [
    "# Split the data into training and testing sets\n",
    "trainset, testset = train_test_split(data, test_size=0.30)\n",
    "print(type(trainset))"
   ]
  },
  {
   "cell_type": "code",
   "execution_count": 6,
   "id": "9fc996b2",
   "metadata": {
    "execution": {
     "iopub.execute_input": "2023-06-16T18:23:50.817398Z",
     "iopub.status.busy": "2023-06-16T18:23:50.817027Z",
     "iopub.status.idle": "2023-06-16T18:23:50.825138Z",
     "shell.execute_reply": "2023-06-16T18:23:50.823859Z"
    },
    "papermill": {
     "duration": 0.019403,
     "end_time": "2023-06-16T18:23:50.827725",
     "exception": false,
     "start_time": "2023-06-16T18:23:50.808322",
     "status": "completed"
    },
    "tags": []
   },
   "outputs": [
    {
     "name": "stdout",
     "output_type": "stream",
     "text": [
      "User 0 rated item 0 with a rating of 4.0\n",
      "User 1 rated item 1 with a rating of 2.0\n",
      "User 1 rated item 1602 with a rating of 3.5\n",
      "User 2 rated item 2 with a rating of 5.0\n",
      "User 2 rated item 2136 with a rating of 4.0\n",
      "\n",
      "User 66041 rated item 1374 with a rating of 4.0\n",
      "User 74674 rated item 2714 with a rating of 3.5\n",
      "User 1748 rated item 1327 with a rating of 1.0\n",
      "User 25151 rated item 6934 with a rating of 3.5\n",
      "User 31716 rated item 3255 with a rating of 4.0\n",
      "\n",
      "21000 9000\n"
     ]
    }
   ],
   "source": [
    "import itertools\n",
    "\n",
    "for uid, iid, rating in itertools.islice(trainset.all_ratings(), 5):\n",
    "    print(f\"User {uid} rated item {iid} with a rating of {rating}\")\n",
    "\n",
    "print()\n",
    "for uid, iid, rating in testset[:5]:\n",
    "    print(f\"User {uid} rated item {iid} with a rating of {rating}\")\n",
    "    \n",
    "print()    \n",
    "print(trainset.n_ratings,len(testset))"
   ]
  },
  {
   "cell_type": "markdown",
   "id": "8cac3a6d",
   "metadata": {
    "papermill": {
     "duration": 0.007162,
     "end_time": "2023-06-16T18:23:50.842466",
     "exception": false,
     "start_time": "2023-06-16T18:23:50.835304",
     "status": "completed"
    },
    "tags": []
   },
   "source": [
    "## SVD\n",
    "SVD is used as a collaborative filtering technique. It uses a matrix structure where each row represents a user, and each column represents an item. The elements of this matrix are the ratings that are given to items by users."
   ]
  },
  {
   "cell_type": "code",
   "execution_count": 7,
   "id": "639e33d1",
   "metadata": {
    "execution": {
     "iopub.execute_input": "2023-06-16T18:23:50.859538Z",
     "iopub.status.busy": "2023-06-16T18:23:50.859096Z",
     "iopub.status.idle": "2023-06-16T18:23:51.374624Z",
     "shell.execute_reply": "2023-06-16T18:23:51.373388Z"
    },
    "papermill": {
     "duration": 0.52718,
     "end_time": "2023-06-16T18:23:51.377199",
     "exception": false,
     "start_time": "2023-06-16T18:23:50.850019",
     "status": "completed"
    },
    "tags": []
   },
   "outputs": [
    {
     "data": {
      "text/plain": [
       "<surprise.prediction_algorithms.matrix_factorization.SVD at 0x7d1a7d9cf010>"
      ]
     },
     "execution_count": 7,
     "metadata": {},
     "output_type": "execute_result"
    }
   ],
   "source": [
    "# Use the KNNBasic algorithm to train the model \n",
    "algo = SVD()\n",
    "algo.fit(trainset)"
   ]
  },
  {
   "cell_type": "code",
   "execution_count": 8,
   "id": "be750da9",
   "metadata": {
    "execution": {
     "iopub.execute_input": "2023-06-16T18:23:51.394167Z",
     "iopub.status.busy": "2023-06-16T18:23:51.393763Z",
     "iopub.status.idle": "2023-06-16T18:23:51.499028Z",
     "shell.execute_reply": "2023-06-16T18:23:51.497807Z"
    },
    "papermill": {
     "duration": 0.116935,
     "end_time": "2023-06-16T18:23:51.501798",
     "exception": false,
     "start_time": "2023-06-16T18:23:51.384863",
     "status": "completed"
    },
    "tags": []
   },
   "outputs": [],
   "source": [
    "# Test the model on the testing set\n",
    "predictions = algo.test(testset)"
   ]
  },
  {
   "cell_type": "code",
   "execution_count": 9,
   "id": "01889fda",
   "metadata": {
    "execution": {
     "iopub.execute_input": "2023-06-16T18:23:51.519675Z",
     "iopub.status.busy": "2023-06-16T18:23:51.519203Z",
     "iopub.status.idle": "2023-06-16T18:23:51.525508Z",
     "shell.execute_reply": "2023-06-16T18:23:51.524287Z"
    },
    "papermill": {
     "duration": 0.018461,
     "end_time": "2023-06-16T18:23:51.528081",
     "exception": false,
     "start_time": "2023-06-16T18:23:51.509620",
     "status": "completed"
    },
    "tags": []
   },
   "outputs": [
    {
     "name": "stdout",
     "output_type": "stream",
     "text": [
      "User 66041 rated item 1374 with a rating of 4.0\n",
      "User 74674 rated item 2714 with a rating of 3.5\n",
      "User 1748 rated item 1327 with a rating of 1.0\n",
      "User 25151 rated item 6934 with a rating of 3.5\n",
      "User 31716 rated item 3255 with a rating of 4.0\n"
     ]
    }
   ],
   "source": [
    "for uid, iid, rating in testset[:5]:\n",
    "    print(f\"User {uid} rated item {iid} with a rating of {rating}\")"
   ]
  },
  {
   "cell_type": "markdown",
   "id": "d19a78df",
   "metadata": {
    "papermill": {
     "duration": 0.007679,
     "end_time": "2023-06-16T18:23:51.543768",
     "exception": false,
     "start_time": "2023-06-16T18:23:51.536089",
     "status": "completed"
    },
    "tags": []
   },
   "source": [
    "The 'predictions' is a list of tuples of the form (user, item, actual_rating, predicted_rating, details). The predicted_rating is est value."
   ]
  },
  {
   "cell_type": "code",
   "execution_count": 10,
   "id": "b9f42bdf",
   "metadata": {
    "execution": {
     "iopub.execute_input": "2023-06-16T18:23:51.561286Z",
     "iopub.status.busy": "2023-06-16T18:23:51.560864Z",
     "iopub.status.idle": "2023-06-16T18:23:51.566441Z",
     "shell.execute_reply": "2023-06-16T18:23:51.565320Z"
    },
    "papermill": {
     "duration": 0.018098,
     "end_time": "2023-06-16T18:23:51.569655",
     "exception": false,
     "start_time": "2023-06-16T18:23:51.551557",
     "status": "completed"
    },
    "tags": []
   },
   "outputs": [
    {
     "name": "stdout",
     "output_type": "stream",
     "text": [
      "user: 66041      item: 1374       r_ui = 4.00   est = 3.72   {'was_impossible': False}\n",
      "user: 74674      item: 2714       r_ui = 3.50   est = 3.64   {'was_impossible': False}\n",
      "user: 1748       item: 1327       r_ui = 1.00   est = 3.29   {'was_impossible': False}\n",
      "user: 25151      item: 6934       r_ui = 3.50   est = 3.27   {'was_impossible': False}\n",
      "user: 31716      item: 3255       r_ui = 4.00   est = 3.32   {'was_impossible': False}\n"
     ]
    }
   ],
   "source": [
    "for prediction in predictions[0:5]:\n",
    "    print(prediction)"
   ]
  },
  {
   "cell_type": "code",
   "execution_count": 11,
   "id": "b270d979",
   "metadata": {
    "execution": {
     "iopub.execute_input": "2023-06-16T18:23:51.587323Z",
     "iopub.status.busy": "2023-06-16T18:23:51.586944Z",
     "iopub.status.idle": "2023-06-16T18:23:51.603322Z",
     "shell.execute_reply": "2023-06-16T18:23:51.601854Z"
    },
    "papermill": {
     "duration": 0.028518,
     "end_time": "2023-06-16T18:23:51.606245",
     "exception": false,
     "start_time": "2023-06-16T18:23:51.577727",
     "status": "completed"
    },
    "tags": []
   },
   "outputs": [
    {
     "name": "stdout",
     "output_type": "stream",
     "text": [
      "RMSE: 1.0148\n"
     ]
    },
    {
     "data": {
      "text/plain": [
       "1.014769893458719"
      ]
     },
     "execution_count": 11,
     "metadata": {},
     "output_type": "execute_result"
    }
   ],
   "source": [
    "# Print the performance metrics\n",
    "accuracy.rmse(predictions)"
   ]
  },
  {
   "cell_type": "code",
   "execution_count": 12,
   "id": "bb157782",
   "metadata": {
    "execution": {
     "iopub.execute_input": "2023-06-16T18:23:51.624766Z",
     "iopub.status.busy": "2023-06-16T18:23:51.624356Z",
     "iopub.status.idle": "2023-06-16T18:23:51.633689Z",
     "shell.execute_reply": "2023-06-16T18:23:51.632603Z"
    },
    "papermill": {
     "duration": 0.021775,
     "end_time": "2023-06-16T18:23:51.636203",
     "exception": false,
     "start_time": "2023-06-16T18:23:51.614428",
     "status": "completed"
    },
    "tags": []
   },
   "outputs": [],
   "source": [
    "true_ratings = [pred.r_ui for pred in predictions]\n",
    "est_ratings = [pred.est for pred in predictions]\n",
    "uids = [pred.uid for pred in predictions]"
   ]
  },
  {
   "cell_type": "code",
   "execution_count": 13,
   "id": "24f93e65",
   "metadata": {
    "execution": {
     "iopub.execute_input": "2023-06-16T18:23:51.654472Z",
     "iopub.status.busy": "2023-06-16T18:23:51.654047Z",
     "iopub.status.idle": "2023-06-16T18:23:57.952796Z",
     "shell.execute_reply": "2023-06-16T18:23:57.951559Z"
    },
    "papermill": {
     "duration": 6.312087,
     "end_time": "2023-06-16T18:23:57.956460",
     "exception": false,
     "start_time": "2023-06-16T18:23:51.644373",
     "status": "completed"
    },
    "tags": []
   },
   "outputs": [
    {
     "data": {
      "image/png": "[encoded data removed]",
      "text/plain": [
       "<Figure size 600x600 with 3 Axes>"
      ]
     },
     "metadata": {},
     "output_type": "display_data"
    }
   ],
   "source": [
    "data=pd.DataFrame(columns=[\"true\",\"predicted\"])\n",
    "data[\"true\"]=true_ratings\n",
    "data[\"predicted\"]=est_ratings\n",
    "g = sns.jointplot(data=data,x=\"true\", y=\"predicted\", kind=\"kde\",)\n",
    "g.fig.suptitle('Test predictions',fontsize=12)\n",
    "plt.show()"
   ]
  },
  {
   "cell_type": "markdown",
   "id": "6898ab95",
   "metadata": {
    "papermill": {
     "duration": 0.01031,
     "end_time": "2023-06-16T18:23:57.976510",
     "exception": false,
     "start_time": "2023-06-16T18:23:57.966200",
     "status": "completed"
    },
    "tags": []
   },
   "source": [
    "# Recommend unseen movies for test set users"
   ]
  },
  {
   "cell_type": "code",
   "execution_count": 14,
   "id": "01b5a50d",
   "metadata": {
    "execution": {
     "iopub.execute_input": "2023-06-16T18:23:57.997570Z",
     "iopub.status.busy": "2023-06-16T18:23:57.997152Z",
     "iopub.status.idle": "2023-06-16T18:23:58.308275Z",
     "shell.execute_reply": "2023-06-16T18:23:58.306898Z"
    },
    "papermill": {
     "duration": 0.325252,
     "end_time": "2023-06-16T18:23:58.311365",
     "exception": false,
     "start_time": "2023-06-16T18:23:57.986113",
     "status": "completed"
    },
    "tags": []
   },
   "outputs": [],
   "source": [
    "movies=pd.read_csv('/kaggle/input/movie-recommendation-system/movies.csv')\n",
    "mapping = movies.set_index(\"movieId\")[\"title\"].to_dict()"
   ]
  },
  {
   "cell_type": "code",
   "execution_count": 15,
   "id": "f65f14f7",
   "metadata": {
    "execution": {
     "iopub.execute_input": "2023-06-16T18:23:58.332861Z",
     "iopub.status.busy": "2023-06-16T18:23:58.332455Z",
     "iopub.status.idle": "2023-06-16T18:23:58.339612Z",
     "shell.execute_reply": "2023-06-16T18:23:58.338279Z"
    },
    "papermill": {
     "duration": 0.020636,
     "end_time": "2023-06-16T18:23:58.342093",
     "exception": false,
     "start_time": "2023-06-16T18:23:58.321457",
     "status": "completed"
    },
    "tags": []
   },
   "outputs": [],
   "source": [
    "users=list(set(uids))"
   ]
  },
  {
   "cell_type": "code",
   "execution_count": 16,
   "id": "b4d6ceb2",
   "metadata": {
    "execution": {
     "iopub.execute_input": "2023-06-16T18:23:58.363674Z",
     "iopub.status.busy": "2023-06-16T18:23:58.363253Z",
     "iopub.status.idle": "2023-06-16T18:30:21.043221Z",
     "shell.execute_reply": "2023-06-16T18:30:21.041918Z"
    },
    "papermill": {
     "duration": 382.694406,
     "end_time": "2023-06-16T18:30:21.046139",
     "exception": false,
     "start_time": "2023-06-16T18:23:58.351733",
     "status": "completed"
    },
    "tags": []
   },
   "outputs": [
    {
     "name": "stdout",
     "output_type": "stream",
     "text": [
      "For User 3, Recommendations:\n",
      "  Casablanca (1942) : Estimated rating 4.4137\n",
      "  Braveheart (1995) : Estimated rating 4.3844\n",
      "  Godfather: Part II, The (1974) : Estimated rating 4.3783\n",
      "  Good Will Hunting (1997) : Estimated rating 4.3677\n",
      "  Matrix, The (1999) : Estimated rating 4.3554\n",
      "For User 32778, Recommendations:\n",
      "  12 Angry Men (1957) : Estimated rating 4.3439\n",
      "  Monty Python and the Holy Grail (1975) : Estimated rating 4.34\n",
      "  O Brother, Where Art Thou? (2000) : Estimated rating 4.3089\n",
      "  Shawshank Redemption, The (1994) : Estimated rating 4.2655\n",
      "  Pulp Fiction (1994) : Estimated rating 4.2347\n",
      "For User 65549, Recommendations:\n",
      "  American Beauty (1999) : Estimated rating 4.5466\n",
      "  Departed, The (2006) : Estimated rating 4.5309\n",
      "  Shawshank Redemption, The (1994) : Estimated rating 4.5147\n",
      "  Pulp Fiction (1994) : Estimated rating 4.5086\n",
      "  Godfather: Part II, The (1974) : Estimated rating 4.4709\n",
      "For User 32785, Recommendations:\n",
      "  Shawshank Redemption, The (1994) : Estimated rating 4.5513\n",
      "  Fight Club (1999) : Estimated rating 4.4109\n",
      "  Indiana Jones and the Last Crusade (1989) : Estimated rating 4.4057\n",
      "  Schindler's List (1993) : Estimated rating 4.3535\n",
      "  American History X (1998) : Estimated rating 4.3513\n",
      "For User 32808, Recommendations:\n",
      "  Shawshank Redemption, The (1994) : Estimated rating 4.1884\n",
      "  Fight Club (1999) : Estimated rating 4.181\n",
      "  Departed, The (2006) : Estimated rating 4.0431\n",
      "  Inglourious Basterds (2009) : Estimated rating 4.0413\n",
      "  Matrix, The (1999) : Estimated rating 4.0189\n",
      "For User 32818, Recommendations:\n",
      "  Saving Private Ryan (1998) : Estimated rating 4.4326\n",
      "  Fight Club (1999) : Estimated rating 4.3791\n",
      "  O Brother, Where Art Thou? (2000) : Estimated rating 4.349\n",
      "  Godfather: Part II, The (1974) : Estimated rating 4.3162\n",
      "  Monty Python and the Holy Grail (1975) : Estimated rating 4.3008\n",
      "For User 65606, Recommendations:\n",
      "  Departed, The (2006) : Estimated rating 4.5682\n",
      "  Shawshank Redemption, The (1994) : Estimated rating 4.5628\n",
      "  American History X (1998) : Estimated rating 4.5026\n",
      "  Inglourious Basterds (2009) : Estimated rating 4.3901\n",
      "  How to Train Your Dragon (2010) : Estimated rating 4.3879\n",
      "For User 65611, Recommendations:\n",
      "  Fight Club (1999) : Estimated rating 4.3685\n",
      "  Shawshank Redemption, The (1994) : Estimated rating 4.274\n",
      "  Departed, The (2006) : Estimated rating 4.2694\n",
      "  American History X (1998) : Estimated rating 4.2061\n",
      "  Blade Runner (1982) : Estimated rating 4.1891\n",
      "For User 32848, Recommendations:\n",
      "  Goodfellas (1990) : Estimated rating 4.4421\n",
      "  Shawshank Redemption, The (1994) : Estimated rating 4.4263\n",
      "  Indiana Jones and the Last Crusade (1989) : Estimated rating 4.4246\n",
      "  Star Wars: Episode V - The Empire Strikes Back (1980) : Estimated rating 4.3719\n",
      "  Casablanca (1942) : Estimated rating 4.3687\n",
      "For User 32855, Recommendations:\n",
      "  Shawshank Redemption, The (1994) : Estimated rating 4.377\n",
      "  Saving Private Ryan (1998) : Estimated rating 4.2752\n",
      "  Monty Python and the Holy Grail (1975) : Estimated rating 4.2172\n",
      "  Life Is Beautiful (La Vita è bella) (1997) : Estimated rating 4.1984\n",
      "  Forrest Gump (1994) : Estimated rating 4.1627\n",
      "For User 32890, Recommendations:\n",
      "  Saving Private Ryan (1998) : Estimated rating 4.4941\n",
      "  Departed, The (2006) : Estimated rating 4.4802\n",
      "  American History X (1998) : Estimated rating 4.4559\n",
      "  Matrix, The (1999) : Estimated rating 4.4347\n",
      "  Godfather: Part II, The (1974) : Estimated rating 4.4314\n",
      "For User 32891, Recommendations:\n",
      "  Shawshank Redemption, The (1994) : Estimated rating 4.47\n",
      "  Pulp Fiction (1994) : Estimated rating 4.4602\n",
      "  Dark Knight, The (2008) : Estimated rating 4.438\n",
      "  O Brother, Where Art Thou? (2000) : Estimated rating 4.4307\n",
      "  Bridge on the River Kwai, The (1957) : Estimated rating 4.4251\n",
      "For User 65659, Recommendations:\n",
      "  Shawshank Redemption, The (1994) : Estimated rating 4.3826\n",
      "  Departed, The (2006) : Estimated rating 4.2813\n",
      "  Godfather: Part II, The (1974) : Estimated rating 4.2395\n",
      "  Fight Club (1999) : Estimated rating 4.2013\n",
      "  O Brother, Where Art Thou? (2000) : Estimated rating 4.1837\n",
      "For User 32894, Recommendations:\n",
      "  Departed, The (2006) : Estimated rating 4.656\n",
      "  Shawshank Redemption, The (1994) : Estimated rating 4.5433\n",
      "  Godfather: Part II, The (1974) : Estimated rating 4.5326\n",
      "  Monty Python and the Holy Grail (1975) : Estimated rating 4.5185\n",
      "  Inglourious Basterds (2009) : Estimated rating 4.5055\n"
     ]
    }
   ],
   "source": [
    "# items which the user not yet evaluate\n",
    "items = trainset.build_anti_testset()\n",
    "for user in users[0:30]:\n",
    "    user_items = list(filter(lambda x: x[0] == user, items))\n",
    "    #print(user,len(user_items))\n",
    "    # generate recommendation\n",
    "    recommendations = algo.test(user_items)\n",
    "    if len(recommendations)>0:\n",
    "        recommendations.sort(key=operator.itemgetter(3), reverse=True)\n",
    "        print(f\"For User {user}, Recommendations:\")\n",
    "        for r in recommendations[0:5]:\n",
    "            print(f\"  {mapping[r[1]]} : Estimated rating {round(r[3],4)}\")"
   ]
  }
 ],
 "metadata": {
  "kernelspec": {
   "display_name": "Python 3",
   "language": "python",
   "name": "python3"
  },
  "language_info": {
   "codemirror_mode": {
    "name": "ipython",
    "version": 3
   },
   "file_extension": ".py",
   "mimetype": "text/x-python",
   "name": "python",
   "nbconvert_exporter": "python",
   "pygments_lexer": "ipython3",
   "version": "3.10.10"
  },
  "papermill": {
   "default_parameters": {},
   "duration": 437.203835,
   "end_time": "2023-06-16T18:30:23.880835",
   "environment_variables": {},
   "exception": null,
   "input_path": "__notebook__.ipynb",
   "output_path": "__notebook__.ipynb",
   "parameters": {},
   "start_time": "2023-06-16T18:23:06.677000",
   "version": "2.4.0"
  }
 },
 "nbformat": 4,
 "nbformat_minor": 5
}
